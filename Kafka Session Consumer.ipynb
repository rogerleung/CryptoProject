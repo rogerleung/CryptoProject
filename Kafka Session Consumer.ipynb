{
 "cells": [
  {
   "cell_type": "code",
   "execution_count": 1,
   "id": "7629b65f",
   "metadata": {
    "scrolled": true
   },
   "outputs": [],
   "source": [
    "import requests\n",
    "import json\n",
    "import time\n",
    "from kafka import KafkaConsumer\n",
    "# #from config import *\n",
    "import time\n",
    "import datetime\n",
    "from datetime import date\n",
    "from datetime import timedelta\n",
    "import os\n",
    "\n",
    "topic_name = 'coin'\n",
    "servers = 'localhost:9092'\n",
    "# servers = 'kafka:9092'\n",
    "LIMIT = 30\n",
    "N = 5"
   ]
  },
  {
   "cell_type": "code",
   "execution_count": 2,
   "id": "d26d50c0",
   "metadata": {},
   "outputs": [],
   "source": [
    "consumer = KafkaConsumer(\n",
    " bootstrap_servers = 'localhost:9092',\n",
    ")"
   ]
  },
  {
   "cell_type": "code",
   "execution_count": 5,
   "id": "b203a266",
   "metadata": {},
   "outputs": [
    {
     "data": {
      "text/plain": [
       "{'coin', 'mytopic'}"
      ]
     },
     "execution_count": 5,
     "metadata": {},
     "output_type": "execute_result"
    }
   ],
   "source": [
    "consumer.topics()"
   ]
  },
  {
   "cell_type": "code",
   "execution_count": 7,
   "id": "a298df57",
   "metadata": {},
   "outputs": [],
   "source": [
    "consumer.subscribe(topics=['coin'])"
   ]
  },
  {
   "cell_type": "code",
   "execution_count": 8,
   "id": "bad2eb64",
   "metadata": {},
   "outputs": [
    {
     "data": {
      "text/plain": [
       "{'coin'}"
      ]
     },
     "execution_count": 8,
     "metadata": {},
     "output_type": "execute_result"
    }
   ],
   "source": [
    "consumer.subscription()"
   ]
  },
  {
   "cell_type": "code",
   "execution_count": null,
   "id": "ee5ef18a",
   "metadata": {},
   "outputs": [
    {
     "name": "stdout",
     "output_type": "stream",
     "text": [
      "coin key=None value=b'{\"name\": \"ETH\", \"timestart\": 1714292291, \"volume\": 159728.645653}'\n",
      "coin key=None value=b'{\"name\": \"DOGE\", \"timestart\": 1714292296, \"volume\": 15465.85167}'\n",
      "coin key=None value=b'{\"name\": \"XRP\", \"timestart\": 1714292301, \"volume\": 15735.1845}'\n",
      "coin key=None value=b'{\"name\": \"SHIB\", \"timestart\": 1714292306, \"volume\": 3524.76419094}'\n",
      "coin key=None value=b'{\"name\": \"ADA\", \"timestart\": 1714292311, \"volume\": 8018.5074}'\n",
      "coin key=None value=b'{\"name\": \"ARB\", \"timestart\": 1714292316, \"volume\": 13267.97575}'\n",
      "coin key=None value=b'{\"name\": \"MATIC\", \"timestart\": 1714292321, \"volume\": 11231.51906}'\n",
      "coin key=None value=b'{\"name\": \"SOL\", \"timestart\": 1714292326, \"volume\": 307512.2824}'\n",
      "coin key=None value=b'{\"name\": \"BTC\", \"timestart\": 1714292331, \"volume\": 660914.5456964}'\n",
      "coin key=None value=b'{\"name\": \"BNB\", \"timestart\": 1714292336, \"volume\": 56945.1062}'\n",
      "coin key=None value=b'{\"name\": \"ETH\", \"timestart\": 1714292341, \"volume\": 1851776.03962}'\n",
      "coin key=None value=b'{\"name\": \"DOGE\", \"timestart\": 1714292346, \"volume\": 21865.44665}'\n",
      "coin key=None value=b'{\"name\": \"XRP\", \"timestart\": 1714292351, \"volume\": 12708.9513}'\n",
      "coin key=None value=b'{\"name\": \"SHIB\", \"timestart\": 1714292356, \"volume\": 14525.00859506}'\n",
      "coin key=None value=b'{\"name\": \"ADA\", \"timestart\": 1714292361, \"volume\": 4642.08691}'\n",
      "coin key=None value=b'{\"name\": \"ARB\", \"timestart\": 1714292366, \"volume\": 18723.2033}'\n",
      "coin key=None value=b'{\"name\": \"MATIC\", \"timestart\": 1714292371, \"volume\": 10515.41365}'\n",
      "coin key=None value=b'{\"name\": \"SOL\", \"timestart\": 1714292376, \"volume\": 1837839.9847}'\n",
      "coin key=None value=b'{\"name\": \"BTC\", \"timestart\": 1714292381, \"volume\": 569685.7094193}'\n",
      "coin key=None value=b'{\"name\": \"BNB\", \"timestart\": 1714292386, \"volume\": 158977.8549}'\n",
      "coin key=None value=b'{\"name\": \"ETH\", \"timestart\": 1714292391, \"volume\": 190260.629}'\n",
      "coin key=None value=b'{\"name\": \"DOGE\", \"timestart\": 1714292396, \"volume\": 28520.01833}'\n",
      "coin key=None value=b'{\"name\": \"XRP\", \"timestart\": 1714292401, \"volume\": 19120.9239}'\n",
      "coin key=None value=b'{\"name\": \"SHIB\", \"timestart\": 1714292406, \"volume\": 32111.86565941}'\n",
      "coin key=None value=b'{\"name\": \"ADA\", \"timestart\": 1714292411, \"volume\": 10038.64706}'\n",
      "coin key=None value=b'{\"name\": \"ARB\", \"timestart\": 1714292416, \"volume\": 25429.0488}'\n",
      "coin key=None value=b'{\"name\": \"MATIC\", \"timestart\": 1714292421, \"volume\": 19067.7747}'\n",
      "coin key=None value=b'{\"name\": \"SOL\", \"timestart\": 1714292426, \"volume\": 2038537.8546}'\n",
      "coin key=None value=b'{\"name\": \"BTC\", \"timestart\": 1714292431, \"volume\": 190957.8377892}'\n",
      "coin key=None value=b'{\"name\": \"BNB\", \"timestart\": 1714292436, \"volume\": 61708.2898}'\n",
      "coin key=None value=b'{\"name\": \"ETH\", \"timestart\": 1714292441, \"volume\": 271025.598973}'\n",
      "coin key=None value=b'{\"name\": \"DOGE\", \"timestart\": 1714292446, \"volume\": 16152.35188}'\n",
      "coin key=None value=b'{\"name\": \"XRP\", \"timestart\": 1714292451, \"volume\": 6122.0772}'\n",
      "coin key=None value=b'{\"name\": \"SHIB\", \"timestart\": 1714292456, \"volume\": 19667.77787512}'\n",
      "coin key=None value=b'{\"name\": \"ADA\", \"timestart\": 1714292461, \"volume\": 2864.7982}'\n",
      "coin key=None value=b'{\"name\": \"ARB\", \"timestart\": 1714292466, \"volume\": 12445.34389}'\n",
      "coin key=None value=b'{\"name\": \"MATIC\", \"timestart\": 1714292471, \"volume\": 3651.39331}'\n",
      "coin key=None value=b'{\"name\": \"SOL\", \"timestart\": 1714292476, \"volume\": 1843954.2619}'\n",
      "coin key=None value=b'{\"name\": \"BTC\", \"timestart\": 1714292481, \"volume\": 139761.8621625}'\n",
      "coin key=None value=b'{\"name\": \"BNB\", \"timestart\": 1714292486, \"volume\": 27340.4399}'\n",
      "coin key=None value=b'{\"name\": \"ETH\", \"timestart\": 1714292491, \"volume\": 315683.377757}'\n",
      "coin key=None value=b'{\"name\": \"DOGE\", \"timestart\": 1714292496, \"volume\": 31473.23224}'\n",
      "coin key=None value=b'{\"name\": \"XRP\", \"timestart\": 1714292501, \"volume\": 5715.7343}'\n",
      "coin key=None value=b'{\"name\": \"SHIB\", \"timestart\": 1714292506, \"volume\": 4631.12029096}'\n",
      "coin key=None value=b'{\"name\": \"ADA\", \"timestart\": 1714292511, \"volume\": 148.2338}'\n",
      "coin key=None value=b'{\"name\": \"ARB\", \"timestart\": 1714292516, \"volume\": 3811.71686}'\n",
      "coin key=None value=b'{\"name\": \"MATIC\", \"timestart\": 1714292521, \"volume\": 6014.78309}'\n",
      "coin key=None value=b'{\"name\": \"SOL\", \"timestart\": 1714292526, \"volume\": 786139.0635}'\n",
      "coin key=None value=b'{\"name\": \"BTC\", \"timestart\": 1714292531, \"volume\": 153882.7164547}'\n",
      "coin key=None value=b'{\"name\": \"BNB\", \"timestart\": 1714292536, \"volume\": 162132.3882}'\n",
      "coin key=None value=b'{\"name\": \"ETH\", \"timestart\": 1714292541, \"volume\": 184825.231048}'\n",
      "coin key=None value=b'{\"name\": \"DOGE\", \"timestart\": 1714292546, \"volume\": 43814.4612}'\n",
      "coin key=None value=b'{\"name\": \"XRP\", \"timestart\": 1714292551, \"volume\": 41977.1877}'\n",
      "coin key=None value=b'{\"name\": \"SHIB\", \"timestart\": 1714292556, \"volume\": 15804.23784281}'\n",
      "coin key=None value=b'{\"name\": \"ADA\", \"timestart\": 1714292561, \"volume\": 4757.92066}'\n",
      "coin key=None value=b'{\"name\": \"ARB\", \"timestart\": 1714292566, \"volume\": 7364.37353}'\n",
      "coin key=None value=b'{\"name\": \"MATIC\", \"timestart\": 1714292571, \"volume\": 65721.89555}'\n",
      "coin key=None value=b'{\"name\": \"SOL\", \"timestart\": 1714292576, \"volume\": 740711.956}'\n",
      "coin key=None value=b'{\"name\": \"BTC\", \"timestart\": 1714292581, \"volume\": 117639.4435385}'\n",
      "coin key=None value=b'{\"name\": \"BNB\", \"timestart\": 1714292586, \"volume\": 19485.1842}'\n",
      "coin key=None value=b'{\"name\": \"ETH\", \"timestart\": 1714292591, \"volume\": 411163.925309}'\n",
      "coin key=None value=b'{\"name\": \"DOGE\", \"timestart\": 1714292596, \"volume\": 167579.29961}'\n",
      "coin key=None value=b'{\"name\": \"XRP\", \"timestart\": 1714292601, \"volume\": 3588.0911}'\n",
      "coin key=None value=b'{\"name\": \"SHIB\", \"timestart\": 1714292606, \"volume\": 31348.75689785}'\n",
      "coin key=None value=b'{\"name\": \"ADA\", \"timestart\": 1714292611, \"volume\": 2819.06968}'\n",
      "coin key=None value=b'{\"name\": \"ARB\", \"timestart\": 1714292616, \"volume\": 48632.37995}'\n",
      "coin key=None value=b'{\"name\": \"MATIC\", \"timestart\": 1714292621, \"volume\": 3815.16379}'\n",
      "coin key=None value=b'{\"name\": \"SOL\", \"timestart\": 1714292626, \"volume\": 615883.9915}'\n",
      "coin key=None value=b'{\"name\": \"BTC\", \"timestart\": 1714292631, \"volume\": 604933.2119239}'\n",
      "coin key=None value=b'{\"name\": \"BNB\", \"timestart\": 1714292636, \"volume\": 37426.3794}'\n",
      "coin key=None value=b'{\"name\": \"ETH\", \"timestart\": 1714292641, \"volume\": 251733.419136}'\n",
      "coin key=None value=b'{\"name\": \"DOGE\", \"timestart\": 1714292646, \"volume\": 31317.32941}'\n",
      "coin key=None value=b'{\"name\": \"XRP\", \"timestart\": 1714292651, \"volume\": 14570.2666}'\n",
      "coin key=None value=b'{\"name\": \"SHIB\", \"timestart\": 1714292656, \"volume\": 5398.34551962}'\n",
      "coin key=None value=b'{\"name\": \"ADA\", \"timestart\": 1714292661, \"volume\": 885.0621}'\n",
      "coin key=None value=b'{\"name\": \"ARB\", \"timestart\": 1714292666, \"volume\": 17738.87128}'\n",
      "coin key=None value=b'{\"name\": \"MATIC\", \"timestart\": 1714292671, \"volume\": 4623.69855}'\n",
      "coin key=None value=b'{\"name\": \"SOL\", \"timestart\": 1714292676, \"volume\": 2355255.1048}'\n",
      "coin key=None value=b'{\"name\": \"BTC\", \"timestart\": 1714292681, \"volume\": 184850.7476045}'\n",
      "coin key=None value=b'{\"name\": \"BNB\", \"timestart\": 1714292686, \"volume\": 57589.0579}'\n",
      "coin key=None value=b'{\"name\": \"ETH\", \"timestart\": 1714292691, \"volume\": 151200.447921}'\n",
      "coin key=None value=b'{\"name\": \"DOGE\", \"timestart\": 1714292696, \"volume\": 16235.57299}'\n",
      "coin key=None value=b'{\"name\": \"XRP\", \"timestart\": 1714292701, \"volume\": 10318.2012}'\n",
      "coin key=None value=b'{\"name\": \"SHIB\", \"timestart\": 1714292706, \"volume\": 7982.86110683}'\n",
      "coin key=None value=b'{\"name\": \"ADA\", \"timestart\": 1714292711, \"volume\": 1823.53037}'\n",
      "coin key=None value=b'{\"name\": \"ARB\", \"timestart\": 1714292716, \"volume\": 7982.89692}'\n",
      "coin key=None value=b'{\"name\": \"MATIC\", \"timestart\": 1714292721, \"volume\": 1178.57548}'\n",
      "coin key=None value=b'{\"name\": \"SOL\", \"timestart\": 1714292726, \"volume\": 82410.1013}'\n",
      "coin key=None value=b'{\"name\": \"BTC\", \"timestart\": 1714292731, \"volume\": 1734345.0256964}'\n",
      "coin key=None value=b'{\"name\": \"BNB\", \"timestart\": 1714292736, \"volume\": 11305.7235}'\n",
      "coin key=None value=b'{\"name\": \"ETH\", \"timestart\": 1714292741, \"volume\": 228902.508074}'\n",
      "coin key=None value=b'{\"name\": \"DOGE\", \"timestart\": 1714292746, \"volume\": 29520.41504}'\n",
      "coin key=None value=b'{\"name\": \"XRP\", \"timestart\": 1714292752, \"volume\": 15531.9519}'\n",
      "coin key=None value=b'{\"name\": \"SHIB\", \"timestart\": 1714292757, \"volume\": 50787.47043889}'\n"
     ]
    },
    {
     "name": "stdout",
     "output_type": "stream",
     "text": [
      "coin key=None value=b'{\"name\": \"ADA\", \"timestart\": 1714292762, \"volume\": 3619.93392}'\n",
      "coin key=None value=b'{\"name\": \"ARB\", \"timestart\": 1714292767, \"volume\": 36829.0967}'\n",
      "coin key=None value=b'{\"name\": \"MATIC\", \"timestart\": 1714292772, \"volume\": 6100.63309}'\n",
      "coin key=None value=b'{\"name\": \"SOL\", \"timestart\": 1714292777, \"volume\": 3084855.3039}'\n",
      "coin key=None value=b'{\"name\": \"BTC\", \"timestart\": 1714292782, \"volume\": 155177.2329173}'\n",
      "coin key=None value=b'{\"name\": \"BNB\", \"timestart\": 1714292787, \"volume\": 15800.7204}'\n",
      "coin key=None value=b'{\"name\": \"ETH\", \"timestart\": 1714292792, \"volume\": 120600.689823}'\n",
      "coin key=None value=b'{\"name\": \"DOGE\", \"timestart\": 1714292797, \"volume\": 17198.72085}'\n"
     ]
    }
   ],
   "source": [
    "for message in consumer:\n",
    "    print(\"%s key=%s value=%s\" % (message.topic, message.key, message.value))"
   ]
  }
 ],
 "metadata": {
  "kernelspec": {
   "display_name": "Python 3 (ipykernel)",
   "language": "python",
   "name": "python3"
  },
  "language_info": {
   "codemirror_mode": {
    "name": "ipython",
    "version": 3
   },
   "file_extension": ".py",
   "mimetype": "text/x-python",
   "name": "python",
   "nbconvert_exporter": "python",
   "pygments_lexer": "ipython3",
   "version": "3.10.9"
  }
 },
 "nbformat": 4,
 "nbformat_minor": 5
}

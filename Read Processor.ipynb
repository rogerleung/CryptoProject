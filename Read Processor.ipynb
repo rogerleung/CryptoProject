{
 "cells": [
  {
   "cell_type": "code",
   "execution_count": 11,
   "id": "894f7b9d",
   "metadata": {},
   "outputs": [],
   "source": [
    "import requests\n",
    "import json\n",
    "import time\n",
    "from kafka import KafkaConsumer\n",
    "from kafka import KafkaProducer\n",
    "# #from config import *\n",
    "import time\n",
    "import datetime\n",
    "from datetime import date\n",
    "from datetime import timedelta\n",
    "import os\n",
    "import statistics\n",
    "\n",
    "topic_name = 'coin'\n",
    "servers = 'localhost:9094'\n",
    "LIMIT = 30\n",
    "N = 5"
   ]
  },
  {
   "cell_type": "code",
   "execution_count": 16,
   "id": "ae229941",
   "metadata": {},
   "outputs": [],
   "source": [
    "consumer = KafkaConsumer(bootstrap_servers='localhost:9092')"
   ]
  },
  {
   "cell_type": "code",
   "execution_count": 21,
   "id": "477132d7",
   "metadata": {},
   "outputs": [
    {
     "data": {
      "text/plain": [
       "{'buying_orders', 'coin', 'mytopic'}"
      ]
     },
     "execution_count": 21,
     "metadata": {},
     "output_type": "execute_result"
    }
   ],
   "source": [
    "consumer.topics()"
   ]
  },
  {
   "cell_type": "code",
   "execution_count": 22,
   "id": "d851e5bc",
   "metadata": {},
   "outputs": [],
   "source": [
    "consumer.subscribe(topics=['buying_orders'])"
   ]
  },
  {
   "cell_type": "code",
   "execution_count": null,
   "id": "85e144dd",
   "metadata": {},
   "outputs": [
    {
     "name": "stdout",
     "output_type": "stream",
     "text": [
      "{'name': 'BTC', 'timestart': 1714404473, 'volume': 1018923.7663391, 'action': 'ignore'}\n",
      "{'name': 'BNB', 'timestart': 1714404478, 'volume': 60836.4565, 'action': 'ignore'}\n",
      "{'name': 'ETH', 'timestart': 1714404483, 'volume': 457242.424992, 'action': 'ignore'}\n",
      "{'name': 'DOGE', 'timestart': 1714404488, 'volume': 48022.40827, 'action': 'ignore'}\n",
      "{'name': 'XRP', 'timestart': 1714404493, 'volume': 367725.9344, 'action': 'buy'}\n",
      "{'name': 'ADA', 'timestart': 1714404503, 'volume': 19848.34079, 'action': 'ignore'}\n",
      "{'name': 'ARB', 'timestart': 1714404508, 'volume': 27551.33822, 'action': 'ignore'}\n",
      "{'name': 'MATIC', 'timestart': 1714404513, 'volume': 31370.1846, 'action': 'ignore'}\n",
      "{'name': 'SOL', 'timestart': 1714404518, 'volume': 855518.37501, 'action': 'buy'}\n",
      "{'name': 'PEPE', 'timestart': 1714404523, 'volume': 165334.96011201, 'action': 'ignore'}\n",
      "{'name': 'BTC', 'timestart': 1714404528, 'volume': 2337150.3652971, 'action': 'ignore'}\n",
      "{'name': 'BNB', 'timestart': 1714404533, 'volume': 184931.2249, 'action': 'ignore'}\n",
      "{'name': 'ETH', 'timestart': 1714404538, 'volume': 601008.621835, 'action': 'ignore'}\n",
      "{'name': 'DOGE', 'timestart': 1714404543, 'volume': 197033.17964, 'action': 'ignore'}\n",
      "{'name': 'XRP', 'timestart': 1714404548, 'volume': 63410.6027, 'action': 'ignore'}\n",
      "{'name': 'ADA', 'timestart': 1714404558, 'volume': 13192.54139, 'action': 'ignore'}\n",
      "{'name': 'ARB', 'timestart': 1714404563, 'volume': 128070.45429, 'action': 'buy'}\n",
      "{'name': 'MATIC', 'timestart': 1714404568, 'volume': 90259.74204, 'action': 'buy'}\n",
      "{'name': 'SOL', 'timestart': 1714404573, 'volume': 510687.01802, 'action': 'ignore'}\n",
      "{'name': 'PEPE', 'timestart': 1714404578, 'volume': 157339.7460108, 'action': 'ignore'}\n",
      "{'name': 'BTC', 'timestart': 1714404583, 'volume': 1867055.2334855, 'action': 'ignore'}\n",
      "{'name': 'BNB', 'timestart': 1714404588, 'volume': 24574.4353, 'action': 'ignore'}\n",
      "{'name': 'ETH', 'timestart': 1714404593, 'volume': 771758.748674, 'action': 'ignore'}\n",
      "{'name': 'DOGE', 'timestart': 1714404598, 'volume': 230676.78628, 'action': 'buy'}\n",
      "{'name': 'XRP', 'timestart': 1714404603, 'volume': 56772.7965, 'action': 'ignore'}\n",
      "{'name': 'ADA', 'timestart': 1714404613, 'volume': 131080.76248, 'action': 'buy'}\n",
      "{'name': 'ARB', 'timestart': 1714404618, 'volume': 71561.60985, 'action': 'buy'}\n",
      "{'name': 'MATIC', 'timestart': 1714404623, 'volume': 9049.28229, 'action': 'ignore'}\n",
      "{'name': 'SOL', 'timestart': 1714404628, 'volume': 525922.68475, 'action': 'ignore'}\n",
      "{'name': 'PEPE', 'timestart': 1714404633, 'volume': 207027.35920525, 'action': 'ignore'}\n",
      "{'name': 'BTC', 'timestart': 1714404638, 'volume': 1610368.3087485, 'action': 'ignore'}\n",
      "{'name': 'BNB', 'timestart': 1714404643, 'volume': 189808.2359, 'action': 'buy'}\n",
      "{'name': 'ETH', 'timestart': 1714404648, 'volume': 729380.860227, 'action': 'ignore'}\n",
      "{'name': 'DOGE', 'timestart': 1714404653, 'volume': 113289.34119, 'action': 'ignore'}\n",
      "{'name': 'XRP', 'timestart': 1714404658, 'volume': 70591.2735, 'action': 'ignore'}\n",
      "{'name': 'ADA', 'timestart': 1714404668, 'volume': 29689.87958, 'action': 'ignore'}\n",
      "{'name': 'ARB', 'timestart': 1714404673, 'volume': 74690.3632, 'action': 'buy'}\n",
      "{'name': 'MATIC', 'timestart': 1714404678, 'volume': 59199.31361, 'action': 'ignore'}\n",
      "{'name': 'SOL', 'timestart': 1714404683, 'volume': 1120808.68099, 'action': 'buy'}\n",
      "{'name': 'PEPE', 'timestart': 1714404688, 'volume': 225002.18292259, 'action': 'ignore'}\n",
      "{'name': 'BTC', 'timestart': 1714404693, 'volume': 515067.3167543, 'action': 'ignore'}\n",
      "{'name': 'BNB', 'timestart': 1714404698, 'volume': 108805.7899, 'action': 'ignore'}\n",
      "{'name': 'ETH', 'timestart': 1714404703, 'volume': 697282.459252, 'action': 'ignore'}\n",
      "{'name': 'DOGE', 'timestart': 1714404708, 'volume': 53321.40047, 'action': 'ignore'}\n",
      "{'name': 'XRP', 'timestart': 1714404713, 'volume': 29874.6779, 'action': 'ignore'}\n",
      "{'name': 'ADA', 'timestart': 1714404723, 'volume': 12081.74463, 'action': 'ignore'}\n",
      "{'name': 'ARB', 'timestart': 1714404728, 'volume': 79020.34949, 'action': 'buy'}\n",
      "{'name': 'MATIC', 'timestart': 1714404733, 'volume': 9431.58552, 'action': 'ignore'}\n",
      "{'name': 'SOL', 'timestart': 1714404738, 'volume': 284911.99957, 'action': 'ignore'}\n",
      "{'name': 'PEPE', 'timestart': 1714404743, 'volume': 455560.92952385, 'action': 'buy'}\n",
      "{'name': 'BTC', 'timestart': 1714404748, 'volume': 1526610.10662, 'action': 'ignore'}\n",
      "{'name': 'BNB', 'timestart': 1714404753, 'volume': 281941.5526, 'action': 'buy'}\n",
      "{'name': 'ETH', 'timestart': 1714404758, 'volume': 869918.749182, 'action': 'ignore'}\n",
      "{'name': 'DOGE', 'timestart': 1714404763, 'volume': 86258.04462, 'action': 'ignore'}\n",
      "{'name': 'XRP', 'timestart': 1714404768, 'volume': 63998.3361, 'action': 'ignore'}\n",
      "{'name': 'ADA', 'timestart': 1714404778, 'volume': 21664.08737, 'action': 'ignore'}\n",
      "{'name': 'ARB', 'timestart': 1714404783, 'volume': 63107.7964, 'action': 'ignore'}\n",
      "{'name': 'MATIC', 'timestart': 1714404788, 'volume': 21885.14474, 'action': 'ignore'}\n",
      "{'name': 'SOL', 'timestart': 1714404793, 'volume': 176160.96173, 'action': 'ignore'}\n",
      "{'name': 'PEPE', 'timestart': 1714404799, 'volume': 229671.3793264, 'action': 'ignore'}\n"
     ]
    }
   ],
   "source": [
    "for message in consumer:\n",
    "#     print(json.loads(message.value.decode('utf-8'))['volume'])\n",
    "    print(json.loads(message.value.decode('utf-8')))"
   ]
  }
 ],
 "metadata": {
  "kernelspec": {
   "display_name": "Python 3 (ipykernel)",
   "language": "python",
   "name": "python3"
  },
  "language_info": {
   "codemirror_mode": {
    "name": "ipython",
    "version": 3
   },
   "file_extension": ".py",
   "mimetype": "text/x-python",
   "name": "python",
   "nbconvert_exporter": "python",
   "pygments_lexer": "ipython3",
   "version": "3.10.9"
  }
 },
 "nbformat": 4,
 "nbformat_minor": 5
}

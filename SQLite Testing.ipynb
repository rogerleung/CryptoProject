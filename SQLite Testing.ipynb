{
 "cells": [
  {
   "cell_type": "code",
   "execution_count": 58,
   "id": "aed91abe",
   "metadata": {},
   "outputs": [],
   "source": [
    "import sqlite3\n",
    "con = sqlite3.connect(\"tutorial.db\")"
   ]
  },
  {
   "cell_type": "code",
   "execution_count": 75,
   "id": "0dfddb1a",
   "metadata": {},
   "outputs": [],
   "source": [
    "tupple = [(5), (5), (5)]\n",
    "tupple_2 = [(5,), (5), (5)]"
   ]
  },
  {
   "cell_type": "code",
   "execution_count": 76,
   "id": "33d98c82",
   "metadata": {},
   "outputs": [
    {
     "name": "stdout",
     "output_type": "stream",
     "text": [
      "[5, 5, 5]\n",
      "[(5,), 5, 5]\n"
     ]
    }
   ],
   "source": [
    "print(tupple)\n",
    "print(tupple_2)"
   ]
  },
  {
   "cell_type": "code",
   "execution_count": 59,
   "id": "2e9d4045",
   "metadata": {},
   "outputs": [],
   "source": [
    "# con.close()\n",
    "cur = con.cursor()"
   ]
  },
  {
   "cell_type": "code",
   "execution_count": 25,
   "id": "34c8ff6c",
   "metadata": {},
   "outputs": [
    {
     "ename": "OperationalError",
     "evalue": "table movie already exists",
     "output_type": "error",
     "traceback": [
      "\u001b[1;31m---------------------------------------------------------------------------\u001b[0m",
      "\u001b[1;31mOperationalError\u001b[0m                          Traceback (most recent call last)",
      "Cell \u001b[1;32mIn[25], line 1\u001b[0m\n\u001b[1;32m----> 1\u001b[0m \u001b[43mcur\u001b[49m\u001b[38;5;241;43m.\u001b[39;49m\u001b[43mexecute\u001b[49m\u001b[43m(\u001b[49m\u001b[38;5;124;43m\"\u001b[39;49m\u001b[38;5;124;43mCREATE TABLE movie(title, year, score)\u001b[39;49m\u001b[38;5;124;43m\"\u001b[39;49m\u001b[43m)\u001b[49m\n",
      "\u001b[1;31mOperationalError\u001b[0m: table movie already exists"
     ]
    }
   ],
   "source": [
    "cur.execute(\"CREATE TABLE movie(title, year, score)\")"
   ]
  },
  {
   "cell_type": "code",
   "execution_count": 27,
   "id": "03ff283c",
   "metadata": {},
   "outputs": [
    {
     "data": {
      "text/plain": [
       "('movie',)"
      ]
     },
     "execution_count": 27,
     "metadata": {},
     "output_type": "execute_result"
    }
   ],
   "source": [
    "res = cur.execute(\"SELECT name FROM sqlite_master\")\n",
    "res.fetchone()"
   ]
  },
  {
   "cell_type": "code",
   "execution_count": 28,
   "id": "8121a2c2",
   "metadata": {},
   "outputs": [
    {
     "data": {
      "text/plain": [
       "True"
      ]
     },
     "execution_count": 28,
     "metadata": {},
     "output_type": "execute_result"
    }
   ],
   "source": [
    "res = cur.execute(\"SELECT name FROM sqlite_master WHERE name='spam'\")\n",
    "res.fetchone() is None"
   ]
  },
  {
   "cell_type": "code",
   "execution_count": 35,
   "id": "033e5c42",
   "metadata": {},
   "outputs": [
    {
     "data": {
      "text/plain": [
       "<sqlite3.Cursor at 0x18f81690ac0>"
      ]
     },
     "execution_count": 35,
     "metadata": {},
     "output_type": "execute_result"
    }
   ],
   "source": [
    "cur.execute(\"\"\"\n",
    "    INSERT INTO movie VALUES\n",
    "        ('Monty Python and the Holy Grail', 1975, 8.2),\n",
    "        ('And Now for Something Completely Different', 1971, 7.5)\n",
    "\"\"\")"
   ]
  },
  {
   "cell_type": "code",
   "execution_count": 30,
   "id": "d7a80d92",
   "metadata": {},
   "outputs": [],
   "source": [
    "con.commit()"
   ]
  },
  {
   "cell_type": "code",
   "execution_count": 68,
   "id": "e2438786",
   "metadata": {},
   "outputs": [
    {
     "data": {
      "text/plain": [
       "[(8.2,),\n",
       " (7.5,),\n",
       " (7.9,),\n",
       " (7.5,),\n",
       " (8.0,),\n",
       " (8.2,),\n",
       " (7.5,),\n",
       " (7.9,),\n",
       " (7.5,),\n",
       " (8.0,)]"
      ]
     },
     "execution_count": 68,
     "metadata": {},
     "output_type": "execute_result"
    }
   ],
   "source": [
    "# res = cur.execute(\"SELECT title FROM movie\")\n",
    "# res.fetchall()\n",
    "\n",
    "res = cur.execute(\"SELECT score FROM movie\")\n",
    "res.fetchall()"
   ]
  },
  {
   "cell_type": "code",
   "execution_count": 32,
   "id": "3fbe5441",
   "metadata": {},
   "outputs": [],
   "source": [
    "data = [\n",
    "    (\"Monty Python Live at the Hollywood Bowl\", 1982, 7.9),\n",
    "    (\"Monty Python's The Meaning of Life\", 1983, 7.5),\n",
    "    (\"Monty Python's Life of Brian\", 1979, 8.0),\n",
    "]\n",
    "cur.executemany(\"INSERT INTO movie VALUES(?, ?, ?)\", data)\n",
    "con.commit()  # Remember to commit the transaction after executing INSERT."
   ]
  },
  {
   "cell_type": "code",
   "execution_count": 42,
   "id": "160a8da4",
   "metadata": {},
   "outputs": [
    {
     "name": "stdout",
     "output_type": "stream",
     "text": [
      "(1971, 'And Now for Something Completely Different')\n",
      "(1971, 'And Now for Something Completely Different')\n",
      "(1971, 'And Now for Something Completely Different')\n",
      "(1975, 'Monty Python and the Holy Grail')\n",
      "(1975, 'Monty Python and the Holy Grail')\n",
      "(1975, 'Monty Python and the Holy Grail')\n",
      "(1979, \"Monty Python's Life of Brian\")\n",
      "(1979, \"Monty Python's Life of Brian\")\n",
      "(1982, 'Monty Python Live at the Hollywood Bowl')\n",
      "(1982, 'Monty Python Live at the Hollywood Bowl')\n",
      "(1983, \"Monty Python's The Meaning of Life\")\n",
      "(1983, \"Monty Python's The Meaning of Life\")\n"
     ]
    }
   ],
   "source": [
    "for row in cur.execute(\"SELECT year, title FROM movie ORDER BY year\"):\n",
    "    print(row)"
   ]
  },
  {
   "cell_type": "code",
   "execution_count": 43,
   "id": "9788bae9",
   "metadata": {},
   "outputs": [
    {
     "data": {
      "text/plain": [
       "[(1971, 'And Now for Something Completely Different'),\n",
       " (1971, 'And Now for Something Completely Different'),\n",
       " (1971, 'And Now for Something Completely Different'),\n",
       " (1975, 'Monty Python and the Holy Grail'),\n",
       " (1975, 'Monty Python and the Holy Grail'),\n",
       " (1975, 'Monty Python and the Holy Grail'),\n",
       " (1979, \"Monty Python's Life of Brian\"),\n",
       " (1979, \"Monty Python's Life of Brian\"),\n",
       " (1982, 'Monty Python Live at the Hollywood Bowl'),\n",
       " (1982, 'Monty Python Live at the Hollywood Bowl'),\n",
       " (1983, \"Monty Python's The Meaning of Life\"),\n",
       " (1983, \"Monty Python's The Meaning of Life\")]"
      ]
     },
     "execution_count": 43,
     "metadata": {},
     "output_type": "execute_result"
    }
   ],
   "source": [
    "res = cur.execute(\"SELECT year, title FROM movie ORDER BY year\")\n",
    "res.fetchall()"
   ]
  },
  {
   "cell_type": "code",
   "execution_count": 47,
   "id": "05f63d07",
   "metadata": {},
   "outputs": [],
   "source": [
    "con.close()"
   ]
  },
  {
   "cell_type": "code",
   "execution_count": 48,
   "id": "a6aee02a",
   "metadata": {},
   "outputs": [],
   "source": [
    "new_con = sqlite3.connect(\"tutorial.db\")\n",
    "new_cur = new_con.cursor()\n",
    "res = new_cur.execute(\"SELECT title, year FROM movie ORDER BY score DESC\")\n",
    "title, year = res.fetchone()\n",
    "\n"
   ]
  },
  {
   "cell_type": "code",
   "execution_count": 49,
   "id": "f701ea63",
   "metadata": {},
   "outputs": [
    {
     "name": "stdout",
     "output_type": "stream",
     "text": [
      "Monty Python and the Holy Grail 1975\n"
     ]
    }
   ],
   "source": [
    "print(title, year)"
   ]
  },
  {
   "cell_type": "code",
   "execution_count": 51,
   "id": "d22fc0a5",
   "metadata": {},
   "outputs": [
    {
     "data": {
      "text/plain": [
       "[(\"Monty Python's Life of Brian\", 1979),\n",
       " (\"Monty Python's Life of Brian\", 1979),\n",
       " ('Monty Python Live at the Hollywood Bowl', 1982),\n",
       " ('Monty Python Live at the Hollywood Bowl', 1982),\n",
       " ('And Now for Something Completely Different', 1971),\n",
       " (\"Monty Python's The Meaning of Life\", 1983),\n",
       " ('And Now for Something Completely Different', 1971),\n",
       " (\"Monty Python's The Meaning of Life\", 1983)]"
      ]
     },
     "execution_count": 51,
     "metadata": {},
     "output_type": "execute_result"
    }
   ],
   "source": [
    "res.fetchall()"
   ]
  },
  {
   "cell_type": "code",
   "execution_count": 54,
   "id": "6e618ccb",
   "metadata": {},
   "outputs": [
    {
     "data": {
      "text/plain": [
       "[('Monty Python and the Holy Grail', 1975),\n",
       " ('And Now for Something Completely Different', 1971),\n",
       " ('Monty Python Live at the Hollywood Bowl', 1982),\n",
       " (\"Monty Python's The Meaning of Life\", 1983),\n",
       " (\"Monty Python's Life of Brian\", 1979),\n",
       " ('Monty Python and the Holy Grail', 1975),\n",
       " ('And Now for Something Completely Different', 1971),\n",
       " ('Monty Python Live at the Hollywood Bowl', 1982),\n",
       " (\"Monty Python's The Meaning of Life\", 1983),\n",
       " (\"Monty Python's Life of Brian\", 1979)]"
      ]
     },
     "execution_count": 54,
     "metadata": {},
     "output_type": "execute_result"
    }
   ],
   "source": [
    "res = new_cur.execute(\"SELECT title, year FROM movie\")\n",
    "res.fetchall()"
   ]
  }
 ],
 "metadata": {
  "kernelspec": {
   "display_name": "Python 3 (ipykernel)",
   "language": "python",
   "name": "python3"
  },
  "language_info": {
   "codemirror_mode": {
    "name": "ipython",
    "version": 3
   },
   "file_extension": ".py",
   "mimetype": "text/x-python",
   "name": "python",
   "nbconvert_exporter": "python",
   "pygments_lexer": "ipython3",
   "version": "3.10.9"
  }
 },
 "nbformat": 4,
 "nbformat_minor": 5
}

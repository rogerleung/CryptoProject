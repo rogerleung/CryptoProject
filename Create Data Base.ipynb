{
 "cells": [
  {
   "cell_type": "code",
   "execution_count": 19,
   "id": "c7e23e2b",
   "metadata": {},
   "outputs": [],
   "source": [
    "import pandas as pd\n",
    "import sqlite3\n",
    "import csv\n",
    "import os"
   ]
  },
  {
   "cell_type": "code",
   "execution_count": 39,
   "id": "63a42b2e",
   "metadata": {},
   "outputs": [],
   "source": [
    "## turn on data base\n",
    "con = sqlite3.connect(\"DataBase/BinanceExchangeData3.db\")\n",
    "cur = con.cursor()"
   ]
  },
  {
   "cell_type": "code",
   "execution_count": 40,
   "id": "8d0c0b31",
   "metadata": {},
   "outputs": [
    {
     "data": {
      "text/plain": [
       "<sqlite3.Cursor at 0x1c8072bd140>"
      ]
     },
     "execution_count": 40,
     "metadata": {},
     "output_type": "execute_result"
    }
   ],
   "source": [
    "# Create Spot Table\n",
    "cur.execute(\"CREATE TABLE Spot_1m(open_time, open, high, low, close, volume, close_time, quote_volume, count, taker_buy_volume, taker_buy_quote_volume,ignore)\")"
   ]
  },
  {
   "cell_type": "code",
   "execution_count": 45,
   "id": "84f29550",
   "metadata": {},
   "outputs": [],
   "source": [
    "# # DropTable\n",
    "\n",
    "# cur.execute(\"DROP TABLE Spot_1m\")"
   ]
  },
  {
   "cell_type": "code",
   "execution_count": 15,
   "id": "22b97ba8",
   "metadata": {},
   "outputs": [],
   "source": [
    "file = 'Data/BTCUSDT/1m/'\n",
    "files_to_inject = os.listdir(data_directory)"
   ]
  },
  {
   "cell_type": "code",
   "execution_count": 16,
   "id": "8e91dea3",
   "metadata": {},
   "outputs": [],
   "source": [
    "for i in files_to_inject:\n",
    "    file_directory = file + i\n",
    "    df = pd.read_csv(file_directory, header=None)\n",
    "\n",
    "    df.columns = [\n",
    "        'open_time', 'open', 'high', 'low', 'close', 'volume', 'close_time',\n",
    "        'quote_volume', 'count', 'taker_buy_volume', 'taker_buy_quote_volume',\n",
    "        'ignore'\n",
    "    ]\n",
    "    df.to_csv(file_directory, index = False)"
   ]
  },
  {
   "cell_type": "code",
   "execution_count": 17,
   "id": "3bc06580",
   "metadata": {},
   "outputs": [],
   "source": [
    "## refresh files\n",
    "files_to_inject = os.listdir(data_directory)"
   ]
  },
  {
   "cell_type": "code",
   "execution_count": 41,
   "id": "84459f6b",
   "metadata": {},
   "outputs": [],
   "source": [
    "for i in files_to_inject:\n",
    "\n",
    "    with open(data_directory + i,\n",
    "              'r') as fin:  # `with` statement available in 2.5+\n",
    "        # csv.DictReader uses first line in file for column headings by default\n",
    "        dr = csv.DictReader(fin)  # comma is default delimiter\n",
    "        to_db = [(i['open_time'], i['open'], i['high'], i['low'], i['close'], i['volume'],\n",
    "                  i['close_time'], i['quote_volume'], i['count'], i['taker_buy_volume'], i['taker_buy_quote_volume'], i['ignore'])\n",
    "                 for i in dr]\n",
    "\n",
    "    cur.executemany(\n",
    "        \"INSERT INTO Spot_1m (open_time, open, high, low, close, volume, close_time, quote_volume, count, taker_buy_volume, taker_buy_quote_volume,ignore) VALUES (?, ?, ?, ?, ?, ?, ?, ?, ?, ?, ?, ?);\",\n",
    "        to_db)\n",
    "    con.commit()"
   ]
  },
  {
   "cell_type": "code",
   "execution_count": 44,
   "id": "316e0733",
   "metadata": {},
   "outputs": [
    {
     "data": {
      "text/plain": [
       "[('open_time',\n",
       "  'open',\n",
       "  'high',\n",
       "  'low',\n",
       "  'close',\n",
       "  'volume',\n",
       "  'close_time',\n",
       "  'quote_volume',\n",
       "  'count',\n",
       "  'taker_buy_volume',\n",
       "  'taker_buy_quote_volume',\n",
       "  'ignore'),\n",
       " ('1514764800000',\n",
       "  '13715.65',\n",
       "  '13715.65',\n",
       "  '13681.0',\n",
       "  '13707.92',\n",
       "  '2.844266',\n",
       "  '1514764859999',\n",
       "  '38931.00441306',\n",
       "  '32',\n",
       "  '2.002554',\n",
       "  '27414.3541153',\n",
       "  '0'),\n",
       " ('1514764860000',\n",
       "  '13707.91',\n",
       "  '13707.91',\n",
       "  '13666.11',\n",
       "  '13694.92',\n",
       "  '2.113138',\n",
       "  '1514764919999',\n",
       "  '28910.98250103',\n",
       "  '29',\n",
       "  '0.264134',\n",
       "  '3613.8841797',\n",
       "  '0'),\n",
       " ('1514764920000',\n",
       "  '13682.0',\n",
       "  '13694.94',\n",
       "  '13680.0',\n",
       "  '13680.0',\n",
       "  '1.346411',\n",
       "  '1514764979999',\n",
       "  '18431.84269039',\n",
       "  '46',\n",
       "  '0.753332',\n",
       "  '10313.33178487',\n",
       "  '0'),\n",
       " ('1514764980000',\n",
       "  '13679.98',\n",
       "  '13679.98',\n",
       "  '13601.0',\n",
       "  '13645.99',\n",
       "  '11.589417',\n",
       "  '1514765039999',\n",
       "  '157962.17750801',\n",
       "  '137',\n",
       "  '5.507146',\n",
       "  '75118.44543695',\n",
       "  '0'),\n",
       " ('1514765040000',\n",
       "  '13645.98',\n",
       "  '13646.0',\n",
       "  '13576.28',\n",
       "  '13600.0',\n",
       "  '15.724566',\n",
       "  '1514765099999',\n",
       "  '213978.12070266',\n",
       "  '191',\n",
       "  '9.739792',\n",
       "  '132561.88152514',\n",
       "  '0'),\n",
       " ('1514765100000',\n",
       "  '13600.0',\n",
       "  '13600.0',\n",
       "  '13554.44',\n",
       "  '13568.0',\n",
       "  '6.395223',\n",
       "  '1514765159999',\n",
       "  '86790.92092172',\n",
       "  '129',\n",
       "  '4.525578',\n",
       "  '61427.63687404',\n",
       "  '0'),\n",
       " ('1514765160000',\n",
       "  '13568.0',\n",
       "  '13569.99',\n",
       "  '13520.0',\n",
       "  '13533.68',\n",
       "  '6.348072',\n",
       "  '1514765219999',\n",
       "  '86029.64378778',\n",
       "  '138',\n",
       "  '3.221744',\n",
       "  '43694.19260218',\n",
       "  '0'),\n",
       " ('1514765220000',\n",
       "  '13554.0',\n",
       "  '13554.0',\n",
       "  '13501.01',\n",
       "  '13530.0',\n",
       "  '7.057208',\n",
       "  '1514765279999',\n",
       "  '95436.04483888',\n",
       "  '123',\n",
       "  '3.321991',\n",
       "  '44949.85321224',\n",
       "  '0'),\n",
       " ('1514765280000',\n",
       "  '13514.53',\n",
       "  '13575.0',\n",
       "  '13504.99',\n",
       "  '13575.0',\n",
       "  '16.240707',\n",
       "  '1514765339999',\n",
       "  '219884.99290622',\n",
       "  '157',\n",
       "  '7.699183',\n",
       "  '104259.88627167',\n",
       "  '0')]"
      ]
     },
     "execution_count": 44,
     "metadata": {},
     "output_type": "execute_result"
    }
   ],
   "source": [
    "res = cur.execute(\"SELECT * FROM Spot_1m limit 10\")\n",
    "res.fetchall()"
   ]
  },
  {
   "cell_type": "code",
   "execution_count": null,
   "id": "0ca86cdd",
   "metadata": {},
   "outputs": [],
   "source": [
    "con.close()"
   ]
  }
 ],
 "metadata": {
  "kernelspec": {
   "display_name": "Python 3 (ipykernel)",
   "language": "python",
   "name": "python3"
  },
  "language_info": {
   "codemirror_mode": {
    "name": "ipython",
    "version": 3
   },
   "file_extension": ".py",
   "mimetype": "text/x-python",
   "name": "python",
   "nbconvert_exporter": "python",
   "pygments_lexer": "ipython3",
   "version": "3.10.9"
  }
 },
 "nbformat": 4,
 "nbformat_minor": 5
}

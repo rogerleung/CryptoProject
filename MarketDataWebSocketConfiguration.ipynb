{
 "cells": [
  {
   "cell_type": "code",
   "execution_count": null,
   "id": "71481e22",
   "metadata": {},
   "outputs": [],
   "source": [
    "from websockets.sync.client import connect\n",
    "import asyncio\n",
    "import websockets"
   ]
  },
  {
   "cell_type": "code",
   "execution_count": null,
   "id": "9fa6274f",
   "metadata": {},
   "outputs": [
    {
     "name": "stdout",
     "output_type": "stream",
     "text": [
      "Received: {\"result\":null,\"id\":2}\n",
      "Received: {\"result\":null,\"id\":1}\n",
      "Received: {\"result\":[\"shibusdt@kline_1s\",\"maticusdt@kline_1s\",\"solusdt@kline_1s\",\"btcusdt@kline_1s\",\"bnbusdt@kline_1s\",\"dogeusdt@kline_1s\",\"btcusdt@marketPrice@1s\"],\"id\":3}\n"
     ]
    }
   ],
   "source": [
    "with connect(\"wss://stream.binance.com:9443/ws\") as websocket:\n",
    "    #Subscription\n",
    "    json_subscribe = '{\"method\": \"SUBSCRIBE\", \"params\": [\"shibusdt@kline_1s\",\"maticusdt@kline_1s\",\"solusdt@kline_1s\",\"btcusdt@kline_1s\",\"bnbusdt@kline_1s\",\"dogeusdt@kline_1s\"],  \"id\": 2}' #other pairs\n",
    "    websocket.send(json_subscribe)\n",
    "    message = websocket.recv()\n",
    "    print(f\"Received: {message}\")\n",
    "    \n",
    "    \n",
    "    #Subscription\n",
    "    json_subscribe = '{\"method\": \"SUBSCRIBE\",\"params\":[\"btcusdt@marketPrice@1s\"],\"id\": 1}'\n",
    "    websocket.send(json_subscribe)\n",
    "    message = websocket.recv()\n",
    "    print(f\"Received: {message}\")\n",
    "    \n",
    "    ## check subscription\n",
    "    check_suscriptions = '{\"method\": \"LIST_SUBSCRIPTIONS\", \"id\": 3}'\n",
    "    websocket.send(check_suscriptions)\n",
    "    message = websocket.recv()\n",
    "    print(f\"Received: {message}\")"
   ]
  },
  {
   "cell_type": "code",
   "execution_count": null,
   "id": "4ed03a60",
   "metadata": {},
   "outputs": [],
   "source": [
    "async def receive_data(uri):\n",
    "    async with websockets.connect(uri) as websocket:\n",
    "        while True:\n",
    "            # Receive data from the WebSocket\n",
    "            data = await websocket.recv()\n",
    "            print(f\"Received data: {data}\")"
   ]
  },
  {
   "cell_type": "code",
   "execution_count": null,
   "id": "0b64398f",
   "metadata": {},
   "outputs": [
    {
     "name": "stdout",
     "output_type": "stream",
     "text": [
      "Received data: {\"e\":\"kline\",\"E\":1713963841011,\"s\":\"SHIBUSDT\",\"k\":{\"t\":1713963840000,\"T\":1713963840999,\"s\":\"SHIBUSDT\",\"i\":\"1s\",\"f\":554307232,\"L\":554307233,\"o\":\"0.00002704\",\"c\":\"0.00002704\",\"h\":\"0.00002704\",\"l\":\"0.00002704\",\"v\":\"1576752.00\",\"n\":2,\"x\":true,\"q\":\"42.63537408\",\"V\":\"0.00\",\"Q\":\"0.00000000\",\"B\":\"0\"}}\n",
      "Received data: {\"e\":\"kline\",\"E\":1713963842004,\"s\":\"SHIBUSDT\",\"k\":{\"t\":1713963841000,\"T\":1713963841999,\"s\":\"SHIBUSDT\",\"i\":\"1s\",\"f\":554307234,\"L\":554307439,\"o\":\"0.00002704\",\"c\":\"0.00002702\",\"h\":\"0.00002704\",\"l\":\"0.00002702\",\"v\":\"1272251270.00\",\"n\":206,\"x\":true,\"q\":\"34388.96593345\",\"V\":\"3969720.00\",\"Q\":\"107.34122880\",\"B\":\"0\"}}\n",
      "Received data: {\"e\":\"kline\",\"E\":1713963843004,\"s\":\"SHIBUSDT\",\"k\":{\"t\":1713963842000,\"T\":1713963842999,\"s\":\"SHIBUSDT\",\"i\":\"1s\",\"f\":554307440,\"L\":554307441,\"o\":\"0.00002703\",\"c\":\"0.00002702\",\"h\":\"0.00002703\",\"l\":\"0.00002702\",\"v\":\"9611309.00\",\"n\":2,\"x\":true,\"q\":\"259.74563681\",\"V\":\"4806763.00\",\"Q\":\"129.92680389\",\"B\":\"0\"}}\n",
      "Received data: {\"e\":\"kline\",\"E\":1713963844004,\"s\":\"SHIBUSDT\",\"k\":{\"t\":1713963843000,\"T\":1713963843999,\"s\":\"SHIBUSDT\",\"i\":\"1s\",\"f\":-1,\"L\":-1,\"o\":\"0.00002702\",\"c\":\"0.00002702\",\"h\":\"0.00002702\",\"l\":\"0.00002702\",\"v\":\"0.00\",\"n\":0,\"x\":true,\"q\":\"0.00000000\",\"V\":\"0.00\",\"Q\":\"0.00000000\",\"B\":\"0\"}}\n",
      "Received data: {\"e\":\"kline\",\"E\":1713963845004,\"s\":\"SHIBUSDT\",\"k\":{\"t\":1713963844000,\"T\":1713963844999,\"s\":\"SHIBUSDT\",\"i\":\"1s\",\"f\":554307442,\"L\":554307557,\"o\":\"0.00002703\",\"c\":\"0.00002702\",\"h\":\"0.00002703\",\"l\":\"0.00002702\",\"v\":\"8720390.00\",\"n\":116,\"x\":true,\"q\":\"235.62815862\",\"V\":\"322082.00\",\"Q\":\"8.70587646\",\"B\":\"0\"}}\n",
      "Received data: {\"e\":\"kline\",\"E\":1713963846003,\"s\":\"SHIBUSDT\",\"k\":{\"t\":1713963845000,\"T\":1713963845999,\"s\":\"SHIBUSDT\",\"i\":\"1s\",\"f\":554307558,\"L\":554307558,\"o\":\"0.00002702\",\"c\":\"0.00002702\",\"h\":\"0.00002702\",\"l\":\"0.00002702\",\"v\":\"230882.00\",\"n\":1,\"x\":true,\"q\":\"6.23843164\",\"V\":\"230882.00\",\"Q\":\"6.23843164\",\"B\":\"0\"}}\n",
      "Received data: {\"e\":\"kline\",\"E\":1713963847004,\"s\":\"SHIBUSDT\",\"k\":{\"t\":1713963846000,\"T\":1713963846999,\"s\":\"SHIBUSDT\",\"i\":\"1s\",\"f\":-1,\"L\":-1,\"o\":\"0.00002702\",\"c\":\"0.00002702\",\"h\":\"0.00002702\",\"l\":\"0.00002702\",\"v\":\"0.00\",\"n\":0,\"x\":true,\"q\":\"0.00000000\",\"V\":\"0.00\",\"Q\":\"0.00000000\",\"B\":\"0\"}}\n",
      "Received data: {\"e\":\"kline\",\"E\":1713963848004,\"s\":\"SHIBUSDT\",\"k\":{\"t\":1713963847000,\"T\":1713963847999,\"s\":\"SHIBUSDT\",\"i\":\"1s\",\"f\":554307559,\"L\":554307561,\"o\":\"0.00002702\",\"c\":\"0.00002702\",\"h\":\"0.00002702\",\"l\":\"0.00002702\",\"v\":\"1510167.00\",\"n\":3,\"x\":true,\"q\":\"40.80471234\",\"V\":\"1510167.00\",\"Q\":\"40.80471234\",\"B\":\"0\"}}\n",
      "Received data: {\"e\":\"kline\",\"E\":1713963849003,\"s\":\"SHIBUSDT\",\"k\":{\"t\":1713963848000,\"T\":1713963848999,\"s\":\"SHIBUSDT\",\"i\":\"1s\",\"f\":554307562,\"L\":554307569,\"o\":\"0.00002702\",\"c\":\"0.00002702\",\"h\":\"0.00002702\",\"l\":\"0.00002701\",\"v\":\"10770187.00\",\"n\":8,\"x\":true,\"q\":\"291.00931696\",\"V\":\"10656609.00\",\"Q\":\"287.94157518\",\"B\":\"0\"}}\n",
      "Received data: {\"e\":\"kline\",\"E\":1713963850003,\"s\":\"SHIBUSDT\",\"k\":{\"t\":1713963849000,\"T\":1713963849999,\"s\":\"SHIBUSDT\",\"i\":\"1s\",\"f\":554307570,\"L\":554307572,\"o\":\"0.00002702\",\"c\":\"0.00002702\",\"h\":\"0.00002702\",\"l\":\"0.00002702\",\"v\":\"2039231.00\",\"n\":3,\"x\":true,\"q\":\"55.10002162\",\"V\":\"2039231.00\",\"Q\":\"55.10002162\",\"B\":\"0\"}}\n",
      "Received data: {\"e\":\"kline\",\"E\":1713963851004,\"s\":\"SHIBUSDT\",\"k\":{\"t\":1713963850000,\"T\":1713963850999,\"s\":\"SHIBUSDT\",\"i\":\"1s\",\"f\":554307573,\"L\":554307578,\"o\":\"0.00002702\",\"c\":\"0.00002702\",\"h\":\"0.00002702\",\"l\":\"0.00002702\",\"v\":\"19997970.00\",\"n\":6,\"x\":true,\"q\":\"540.34514940\",\"V\":\"19997970.00\",\"Q\":\"540.34514940\",\"B\":\"0\"}}\n",
      "Received data: {\"e\":\"kline\",\"E\":1713963852004,\"s\":\"SHIBUSDT\",\"k\":{\"t\":1713963851000,\"T\":1713963851999,\"s\":\"SHIBUSDT\",\"i\":\"1s\",\"f\":554307579,\"L\":554307714,\"o\":\"0.00002701\",\"c\":\"0.00002702\",\"h\":\"0.00002702\",\"l\":\"0.00002701\",\"v\":\"561801076.00\",\"n\":136,\"x\":true,\"q\":\"15179.85673087\",\"V\":\"560966811.00\",\"Q\":\"15157.32323322\",\"B\":\"0\"}}\n",
      "Received data: {\"e\":\"kline\",\"E\":1713963853003,\"s\":\"SHIBUSDT\",\"k\":{\"t\":1713963852000,\"T\":1713963852999,\"s\":\"SHIBUSDT\",\"i\":\"1s\",\"f\":554307715,\"L\":554307806,\"o\":\"0.00002703\",\"c\":\"0.00002702\",\"h\":\"0.00002703\",\"l\":\"0.00002702\",\"v\":\"159995670.00\",\"n\":92,\"x\":true,\"q\":\"4323.11261109\",\"V\":\"2960769.00\",\"Q\":\"80.02958607\",\"B\":\"0\"}}\n",
      "Received data: {\"e\":\"kline\",\"E\":1713963854004,\"s\":\"SHIBUSDT\",\"k\":{\"t\":1713963853000,\"T\":1713963853999,\"s\":\"SHIBUSDT\",\"i\":\"1s\",\"f\":554307807,\"L\":554307808,\"o\":\"0.00002702\",\"c\":\"0.00002701\",\"h\":\"0.00002702\",\"l\":\"0.00002701\",\"v\":\"88838608.00\",\"n\":2,\"x\":true,\"q\":\"2399.54860537\",\"V\":\"1780329.00\",\"Q\":\"48.10448958\",\"B\":\"0\"}}\n"
     ]
    },
    {
     "ename": "ConnectionClosedError",
     "evalue": "sent 1011 (internal error) keepalive ping timeout; no close frame received",
     "output_type": "error",
     "traceback": [
      "\u001b[0;31m---------------------------------------------------------------------------\u001b[0m",
      "\u001b[0;31mCancelledError\u001b[0m                            Traceback (most recent call last)",
      "File \u001b[0;32m~/anaconda3/lib/python3.11/site-packages/websockets/legacy/protocol.py:1301\u001b[0m, in \u001b[0;36mWebSocketCommonProtocol.close_connection\u001b[0;34m(self)\u001b[0m\n\u001b[1;32m   1300\u001b[0m \u001b[38;5;28;01mtry\u001b[39;00m:\n\u001b[0;32m-> 1301\u001b[0m     \u001b[38;5;28;01mawait\u001b[39;00m \u001b[38;5;28mself\u001b[39m\u001b[38;5;241m.\u001b[39mtransfer_data_task\n\u001b[1;32m   1302\u001b[0m \u001b[38;5;28;01mexcept\u001b[39;00m asyncio\u001b[38;5;241m.\u001b[39mCancelledError:\n",
      "File \u001b[0;32m~/anaconda3/lib/python3.11/asyncio/futures.py:287\u001b[0m, in \u001b[0;36mFuture.__await__\u001b[0;34m(self)\u001b[0m\n\u001b[1;32m    286\u001b[0m     \u001b[38;5;28mself\u001b[39m\u001b[38;5;241m.\u001b[39m_asyncio_future_blocking \u001b[38;5;241m=\u001b[39m \u001b[38;5;28;01mTrue\u001b[39;00m\n\u001b[0;32m--> 287\u001b[0m     \u001b[38;5;28;01myield\u001b[39;00m \u001b[38;5;28mself\u001b[39m  \u001b[38;5;66;03m# This tells Task to wait for completion.\u001b[39;00m\n\u001b[1;32m    288\u001b[0m \u001b[38;5;28;01mif\u001b[39;00m \u001b[38;5;129;01mnot\u001b[39;00m \u001b[38;5;28mself\u001b[39m\u001b[38;5;241m.\u001b[39mdone():\n",
      "File \u001b[0;32m~/anaconda3/lib/python3.11/asyncio/tasks.py:349\u001b[0m, in \u001b[0;36mTask.__wakeup\u001b[0;34m(self, future)\u001b[0m\n\u001b[1;32m    348\u001b[0m \u001b[38;5;28;01mtry\u001b[39;00m:\n\u001b[0;32m--> 349\u001b[0m     future\u001b[38;5;241m.\u001b[39mresult()\n\u001b[1;32m    350\u001b[0m \u001b[38;5;28;01mexcept\u001b[39;00m \u001b[38;5;167;01mBaseException\u001b[39;00m \u001b[38;5;28;01mas\u001b[39;00m exc:\n\u001b[1;32m    351\u001b[0m     \u001b[38;5;66;03m# This may also be a cancellation.\u001b[39;00m\n",
      "File \u001b[0;32m~/anaconda3/lib/python3.11/asyncio/futures.py:198\u001b[0m, in \u001b[0;36mFuture.result\u001b[0;34m(self)\u001b[0m\n\u001b[1;32m    197\u001b[0m     exc \u001b[38;5;241m=\u001b[39m \u001b[38;5;28mself\u001b[39m\u001b[38;5;241m.\u001b[39m_make_cancelled_error()\n\u001b[0;32m--> 198\u001b[0m     \u001b[38;5;28;01mraise\u001b[39;00m exc\n\u001b[1;32m    199\u001b[0m \u001b[38;5;28;01mif\u001b[39;00m \u001b[38;5;28mself\u001b[39m\u001b[38;5;241m.\u001b[39m_state \u001b[38;5;241m!=\u001b[39m _FINISHED:\n",
      "File \u001b[0;32m~/anaconda3/lib/python3.11/asyncio/tasks.py:279\u001b[0m, in \u001b[0;36mTask.__step\u001b[0;34m(***failed resolving arguments***)\u001b[0m\n\u001b[1;32m    278\u001b[0m     \u001b[38;5;28;01melse\u001b[39;00m:\n\u001b[0;32m--> 279\u001b[0m         result \u001b[38;5;241m=\u001b[39m coro\u001b[38;5;241m.\u001b[39mthrow(exc)\n\u001b[1;32m    280\u001b[0m \u001b[38;5;28;01mexcept\u001b[39;00m \u001b[38;5;167;01mStopIteration\u001b[39;00m \u001b[38;5;28;01mas\u001b[39;00m exc:\n",
      "File \u001b[0;32m~/anaconda3/lib/python3.11/site-packages/websockets/legacy/protocol.py:963\u001b[0m, in \u001b[0;36mWebSocketCommonProtocol.transfer_data\u001b[0;34m(self)\u001b[0m\n\u001b[1;32m    962\u001b[0m \u001b[38;5;28;01mwhile\u001b[39;00m \u001b[38;5;28;01mTrue\u001b[39;00m:\n\u001b[0;32m--> 963\u001b[0m     message \u001b[38;5;241m=\u001b[39m \u001b[38;5;28;01mawait\u001b[39;00m \u001b[38;5;28mself\u001b[39m\u001b[38;5;241m.\u001b[39mread_message()\n\u001b[1;32m    965\u001b[0m     \u001b[38;5;66;03m# Exit the loop when receiving a close frame.\u001b[39;00m\n",
      "File \u001b[0;32m~/anaconda3/lib/python3.11/site-packages/websockets/legacy/protocol.py:1033\u001b[0m, in \u001b[0;36mWebSocketCommonProtocol.read_message\u001b[0;34m(self)\u001b[0m\n\u001b[1;32m   1025\u001b[0m \u001b[38;5;250m\u001b[39m\u001b[38;5;124;03m\"\"\"\u001b[39;00m\n\u001b[1;32m   1026\u001b[0m \u001b[38;5;124;03mRead a single message from the connection.\u001b[39;00m\n\u001b[1;32m   1027\u001b[0m \n\u001b[0;32m   (...)\u001b[0m\n\u001b[1;32m   1031\u001b[0m \n\u001b[1;32m   1032\u001b[0m \u001b[38;5;124;03m\"\"\"\u001b[39;00m\n\u001b[0;32m-> 1033\u001b[0m frame \u001b[38;5;241m=\u001b[39m \u001b[38;5;28;01mawait\u001b[39;00m \u001b[38;5;28mself\u001b[39m\u001b[38;5;241m.\u001b[39mread_data_frame(max_size\u001b[38;5;241m=\u001b[39m\u001b[38;5;28mself\u001b[39m\u001b[38;5;241m.\u001b[39mmax_size)\n\u001b[1;32m   1035\u001b[0m \u001b[38;5;66;03m# A close frame was received.\u001b[39;00m\n",
      "File \u001b[0;32m~/anaconda3/lib/python3.11/site-packages/websockets/legacy/protocol.py:1108\u001b[0m, in \u001b[0;36mWebSocketCommonProtocol.read_data_frame\u001b[0;34m(self, max_size)\u001b[0m\n\u001b[1;32m   1107\u001b[0m \u001b[38;5;28;01mwhile\u001b[39;00m \u001b[38;5;28;01mTrue\u001b[39;00m:\n\u001b[0;32m-> 1108\u001b[0m     frame \u001b[38;5;241m=\u001b[39m \u001b[38;5;28;01mawait\u001b[39;00m \u001b[38;5;28mself\u001b[39m\u001b[38;5;241m.\u001b[39mread_frame(max_size)\n\u001b[1;32m   1110\u001b[0m     \u001b[38;5;66;03m# 5.5. Control Frames\u001b[39;00m\n",
      "File \u001b[0;32m~/anaconda3/lib/python3.11/site-packages/websockets/legacy/protocol.py:1165\u001b[0m, in \u001b[0;36mWebSocketCommonProtocol.read_frame\u001b[0;34m(self, max_size)\u001b[0m\n\u001b[1;32m   1161\u001b[0m \u001b[38;5;250m\u001b[39m\u001b[38;5;124;03m\"\"\"\u001b[39;00m\n\u001b[1;32m   1162\u001b[0m \u001b[38;5;124;03mRead a single frame from the connection.\u001b[39;00m\n\u001b[1;32m   1163\u001b[0m \n\u001b[1;32m   1164\u001b[0m \u001b[38;5;124;03m\"\"\"\u001b[39;00m\n\u001b[0;32m-> 1165\u001b[0m frame \u001b[38;5;241m=\u001b[39m \u001b[38;5;28;01mawait\u001b[39;00m Frame\u001b[38;5;241m.\u001b[39mread(\n\u001b[1;32m   1166\u001b[0m     \u001b[38;5;28mself\u001b[39m\u001b[38;5;241m.\u001b[39mreader\u001b[38;5;241m.\u001b[39mreadexactly,\n\u001b[1;32m   1167\u001b[0m     mask\u001b[38;5;241m=\u001b[39m\u001b[38;5;129;01mnot\u001b[39;00m \u001b[38;5;28mself\u001b[39m\u001b[38;5;241m.\u001b[39mis_client,\n\u001b[1;32m   1168\u001b[0m     max_size\u001b[38;5;241m=\u001b[39mmax_size,\n\u001b[1;32m   1169\u001b[0m     extensions\u001b[38;5;241m=\u001b[39m\u001b[38;5;28mself\u001b[39m\u001b[38;5;241m.\u001b[39mextensions,\n\u001b[1;32m   1170\u001b[0m )\n\u001b[1;32m   1171\u001b[0m \u001b[38;5;28;01mif\u001b[39;00m \u001b[38;5;28mself\u001b[39m\u001b[38;5;241m.\u001b[39mdebug:\n",
      "File \u001b[0;32m~/anaconda3/lib/python3.11/site-packages/websockets/legacy/framing.py:68\u001b[0m, in \u001b[0;36mFrame.read\u001b[0;34m(cls, reader, mask, max_size, extensions)\u001b[0m\n\u001b[1;32m     67\u001b[0m \u001b[38;5;66;03m# Read the header.\u001b[39;00m\n\u001b[0;32m---> 68\u001b[0m data \u001b[38;5;241m=\u001b[39m \u001b[38;5;28;01mawait\u001b[39;00m reader(\u001b[38;5;241m2\u001b[39m)\n\u001b[1;32m     69\u001b[0m head1, head2 \u001b[38;5;241m=\u001b[39m struct\u001b[38;5;241m.\u001b[39munpack(\u001b[38;5;124m\"\u001b[39m\u001b[38;5;124m!BB\u001b[39m\u001b[38;5;124m\"\u001b[39m, data)\n",
      "File \u001b[0;32m~/anaconda3/lib/python3.11/asyncio/streams.py:750\u001b[0m, in \u001b[0;36mStreamReader.readexactly\u001b[0;34m(self, n)\u001b[0m\n\u001b[1;32m    748\u001b[0m         \u001b[38;5;28;01mraise\u001b[39;00m exceptions\u001b[38;5;241m.\u001b[39mIncompleteReadError(incomplete, n)\n\u001b[0;32m--> 750\u001b[0m     \u001b[38;5;28;01mawait\u001b[39;00m \u001b[38;5;28mself\u001b[39m\u001b[38;5;241m.\u001b[39m_wait_for_data(\u001b[38;5;124m'\u001b[39m\u001b[38;5;124mreadexactly\u001b[39m\u001b[38;5;124m'\u001b[39m)\n\u001b[1;32m    752\u001b[0m \u001b[38;5;28;01mif\u001b[39;00m \u001b[38;5;28mlen\u001b[39m(\u001b[38;5;28mself\u001b[39m\u001b[38;5;241m.\u001b[39m_buffer) \u001b[38;5;241m==\u001b[39m n:\n",
      "File \u001b[0;32m~/anaconda3/lib/python3.11/asyncio/streams.py:543\u001b[0m, in \u001b[0;36mStreamReader._wait_for_data\u001b[0;34m(self, func_name)\u001b[0m\n\u001b[1;32m    542\u001b[0m \u001b[38;5;28;01mtry\u001b[39;00m:\n\u001b[0;32m--> 543\u001b[0m     \u001b[38;5;28;01mawait\u001b[39;00m \u001b[38;5;28mself\u001b[39m\u001b[38;5;241m.\u001b[39m_waiter\n\u001b[1;32m    544\u001b[0m \u001b[38;5;28;01mfinally\u001b[39;00m:\n",
      "File \u001b[0;32m~/anaconda3/lib/python3.11/asyncio/futures.py:287\u001b[0m, in \u001b[0;36mFuture.__await__\u001b[0;34m(self)\u001b[0m\n\u001b[1;32m    286\u001b[0m     \u001b[38;5;28mself\u001b[39m\u001b[38;5;241m.\u001b[39m_asyncio_future_blocking \u001b[38;5;241m=\u001b[39m \u001b[38;5;28;01mTrue\u001b[39;00m\n\u001b[0;32m--> 287\u001b[0m     \u001b[38;5;28;01myield\u001b[39;00m \u001b[38;5;28mself\u001b[39m  \u001b[38;5;66;03m# This tells Task to wait for completion.\u001b[39;00m\n\u001b[1;32m    288\u001b[0m \u001b[38;5;28;01mif\u001b[39;00m \u001b[38;5;129;01mnot\u001b[39;00m \u001b[38;5;28mself\u001b[39m\u001b[38;5;241m.\u001b[39mdone():\n",
      "File \u001b[0;32m~/anaconda3/lib/python3.11/asyncio/tasks.py:349\u001b[0m, in \u001b[0;36mTask.__wakeup\u001b[0;34m(self, future)\u001b[0m\n\u001b[1;32m    348\u001b[0m \u001b[38;5;28;01mtry\u001b[39;00m:\n\u001b[0;32m--> 349\u001b[0m     future\u001b[38;5;241m.\u001b[39mresult()\n\u001b[1;32m    350\u001b[0m \u001b[38;5;28;01mexcept\u001b[39;00m \u001b[38;5;167;01mBaseException\u001b[39;00m \u001b[38;5;28;01mas\u001b[39;00m exc:\n\u001b[1;32m    351\u001b[0m     \u001b[38;5;66;03m# This may also be a cancellation.\u001b[39;00m\n",
      "File \u001b[0;32m~/anaconda3/lib/python3.11/asyncio/futures.py:198\u001b[0m, in \u001b[0;36mFuture.result\u001b[0;34m(self)\u001b[0m\n\u001b[1;32m    197\u001b[0m     exc \u001b[38;5;241m=\u001b[39m \u001b[38;5;28mself\u001b[39m\u001b[38;5;241m.\u001b[39m_make_cancelled_error()\n\u001b[0;32m--> 198\u001b[0m     \u001b[38;5;28;01mraise\u001b[39;00m exc\n\u001b[1;32m    199\u001b[0m \u001b[38;5;28;01mif\u001b[39;00m \u001b[38;5;28mself\u001b[39m\u001b[38;5;241m.\u001b[39m_state \u001b[38;5;241m!=\u001b[39m _FINISHED:\n",
      "\u001b[0;31mCancelledError\u001b[0m: ",
      "\nThe above exception was the direct cause of the following exception:\n",
      "\u001b[0;31mConnectionClosedError\u001b[0m                     Traceback (most recent call last)",
      "Cell \u001b[0;32mIn[11], line 4\u001b[0m\n\u001b[1;32m      1\u001b[0m \u001b[38;5;66;03m# import BinanceMarketStreamCall\u001b[39;00m\n\u001b[1;32m      3\u001b[0m websocket_url \u001b[38;5;241m=\u001b[39m \u001b[38;5;124m'\u001b[39m\u001b[38;5;124mwss://stream.binance.com:9443/ws/shibusdt@kline_1s\u001b[39m\u001b[38;5;124m'\u001b[39m\n\u001b[0;32m----> 4\u001b[0m asyncio\u001b[38;5;241m.\u001b[39mget_event_loop()\u001b[38;5;241m.\u001b[39mrun_until_complete(receive_data(websocket_url))\n",
      "File \u001b[0;32m~/anaconda3/lib/python3.11/site-packages/nest_asyncio.py:90\u001b[0m, in \u001b[0;36m_patch_loop.<locals>.run_until_complete\u001b[0;34m(self, future)\u001b[0m\n\u001b[1;32m     87\u001b[0m \u001b[38;5;28;01mif\u001b[39;00m \u001b[38;5;129;01mnot\u001b[39;00m f\u001b[38;5;241m.\u001b[39mdone():\n\u001b[1;32m     88\u001b[0m     \u001b[38;5;28;01mraise\u001b[39;00m \u001b[38;5;167;01mRuntimeError\u001b[39;00m(\n\u001b[1;32m     89\u001b[0m         \u001b[38;5;124m'\u001b[39m\u001b[38;5;124mEvent loop stopped before Future completed.\u001b[39m\u001b[38;5;124m'\u001b[39m)\n\u001b[0;32m---> 90\u001b[0m \u001b[38;5;28;01mreturn\u001b[39;00m f\u001b[38;5;241m.\u001b[39mresult()\n",
      "File \u001b[0;32m~/anaconda3/lib/python3.11/asyncio/futures.py:203\u001b[0m, in \u001b[0;36mFuture.result\u001b[0;34m(self)\u001b[0m\n\u001b[1;32m    201\u001b[0m \u001b[38;5;28mself\u001b[39m\u001b[38;5;241m.\u001b[39m__log_traceback \u001b[38;5;241m=\u001b[39m \u001b[38;5;28;01mFalse\u001b[39;00m\n\u001b[1;32m    202\u001b[0m \u001b[38;5;28;01mif\u001b[39;00m \u001b[38;5;28mself\u001b[39m\u001b[38;5;241m.\u001b[39m_exception \u001b[38;5;129;01mis\u001b[39;00m \u001b[38;5;129;01mnot\u001b[39;00m \u001b[38;5;28;01mNone\u001b[39;00m:\n\u001b[0;32m--> 203\u001b[0m     \u001b[38;5;28;01mraise\u001b[39;00m \u001b[38;5;28mself\u001b[39m\u001b[38;5;241m.\u001b[39m_exception\u001b[38;5;241m.\u001b[39mwith_traceback(\u001b[38;5;28mself\u001b[39m\u001b[38;5;241m.\u001b[39m_exception_tb)\n\u001b[1;32m    204\u001b[0m \u001b[38;5;28;01mreturn\u001b[39;00m \u001b[38;5;28mself\u001b[39m\u001b[38;5;241m.\u001b[39m_result\n",
      "File \u001b[0;32m~/anaconda3/lib/python3.11/asyncio/tasks.py:277\u001b[0m, in \u001b[0;36mTask.__step\u001b[0;34m(***failed resolving arguments***)\u001b[0m\n\u001b[1;32m    273\u001b[0m \u001b[38;5;28;01mtry\u001b[39;00m:\n\u001b[1;32m    274\u001b[0m     \u001b[38;5;28;01mif\u001b[39;00m exc \u001b[38;5;129;01mis\u001b[39;00m \u001b[38;5;28;01mNone\u001b[39;00m:\n\u001b[1;32m    275\u001b[0m         \u001b[38;5;66;03m# We use the `send` method directly, because coroutines\u001b[39;00m\n\u001b[1;32m    276\u001b[0m         \u001b[38;5;66;03m# don't have `__iter__` and `__next__` methods.\u001b[39;00m\n\u001b[0;32m--> 277\u001b[0m         result \u001b[38;5;241m=\u001b[39m coro\u001b[38;5;241m.\u001b[39msend(\u001b[38;5;28;01mNone\u001b[39;00m)\n\u001b[1;32m    278\u001b[0m     \u001b[38;5;28;01melse\u001b[39;00m:\n\u001b[1;32m    279\u001b[0m         result \u001b[38;5;241m=\u001b[39m coro\u001b[38;5;241m.\u001b[39mthrow(exc)\n",
      "Cell \u001b[0;32mIn[10], line 5\u001b[0m, in \u001b[0;36mreceive_data\u001b[0;34m(uri)\u001b[0m\n\u001b[1;32m      2\u001b[0m \u001b[38;5;28;01masync\u001b[39;00m \u001b[38;5;28;01mwith\u001b[39;00m websockets\u001b[38;5;241m.\u001b[39mconnect(uri) \u001b[38;5;28;01mas\u001b[39;00m websocket:\n\u001b[1;32m      3\u001b[0m     \u001b[38;5;28;01mwhile\u001b[39;00m \u001b[38;5;28;01mTrue\u001b[39;00m:\n\u001b[1;32m      4\u001b[0m         \u001b[38;5;66;03m# Receive data from the WebSocket\u001b[39;00m\n\u001b[0;32m----> 5\u001b[0m         data \u001b[38;5;241m=\u001b[39m \u001b[38;5;28;01mawait\u001b[39;00m websocket\u001b[38;5;241m.\u001b[39mrecv()\n\u001b[1;32m      6\u001b[0m         \u001b[38;5;28mprint\u001b[39m(\u001b[38;5;124mf\u001b[39m\u001b[38;5;124m\"\u001b[39m\u001b[38;5;124mReceived data: \u001b[39m\u001b[38;5;132;01m{\u001b[39;00mdata\u001b[38;5;132;01m}\u001b[39;00m\u001b[38;5;124m\"\u001b[39m)\n",
      "File \u001b[0;32m~/anaconda3/lib/python3.11/site-packages/websockets/legacy/protocol.py:568\u001b[0m, in \u001b[0;36mWebSocketCommonProtocol.recv\u001b[0;34m(self)\u001b[0m\n\u001b[1;32m    564\u001b[0m             \u001b[38;5;28;01mreturn\u001b[39;00m \u001b[38;5;28;01mNone\u001b[39;00m  \u001b[38;5;66;03m# type: ignore\u001b[39;00m\n\u001b[1;32m    565\u001b[0m         \u001b[38;5;28;01melse\u001b[39;00m:\n\u001b[1;32m    566\u001b[0m             \u001b[38;5;66;03m# Wait until the connection is closed to raise\u001b[39;00m\n\u001b[1;32m    567\u001b[0m             \u001b[38;5;66;03m# ConnectionClosed with the correct code and reason.\u001b[39;00m\n\u001b[0;32m--> 568\u001b[0m             \u001b[38;5;28;01mawait\u001b[39;00m \u001b[38;5;28mself\u001b[39m\u001b[38;5;241m.\u001b[39mensure_open()\n\u001b[1;32m    570\u001b[0m \u001b[38;5;66;03m# Pop a message from the queue.\u001b[39;00m\n\u001b[1;32m    571\u001b[0m message \u001b[38;5;241m=\u001b[39m \u001b[38;5;28mself\u001b[39m\u001b[38;5;241m.\u001b[39mmessages\u001b[38;5;241m.\u001b[39mpopleft()\n",
      "File \u001b[0;32m~/anaconda3/lib/python3.11/site-packages/websockets/legacy/protocol.py:948\u001b[0m, in \u001b[0;36mWebSocketCommonProtocol.ensure_open\u001b[0;34m(self)\u001b[0m\n\u001b[1;32m    941\u001b[0m \u001b[38;5;28;01mif\u001b[39;00m \u001b[38;5;28mself\u001b[39m\u001b[38;5;241m.\u001b[39mstate \u001b[38;5;129;01mis\u001b[39;00m State\u001b[38;5;241m.\u001b[39mCLOSING:\n\u001b[1;32m    942\u001b[0m     \u001b[38;5;66;03m# If we started the closing handshake, wait for its completion to\u001b[39;00m\n\u001b[1;32m    943\u001b[0m     \u001b[38;5;66;03m# get the proper close code and reason. self.close_connection_task\u001b[39;00m\n\u001b[1;32m    944\u001b[0m     \u001b[38;5;66;03m# will complete within 4 or 5 * close_timeout after close(). The\u001b[39;00m\n\u001b[1;32m    945\u001b[0m     \u001b[38;5;66;03m# CLOSING state also occurs when failing the connection. In that\u001b[39;00m\n\u001b[1;32m    946\u001b[0m     \u001b[38;5;66;03m# case self.close_connection_task will complete even faster.\u001b[39;00m\n\u001b[1;32m    947\u001b[0m     \u001b[38;5;28;01mawait\u001b[39;00m asyncio\u001b[38;5;241m.\u001b[39mshield(\u001b[38;5;28mself\u001b[39m\u001b[38;5;241m.\u001b[39mclose_connection_task)\n\u001b[0;32m--> 948\u001b[0m     \u001b[38;5;28;01mraise\u001b[39;00m \u001b[38;5;28mself\u001b[39m\u001b[38;5;241m.\u001b[39mconnection_closed_exc()\n\u001b[1;32m    950\u001b[0m \u001b[38;5;66;03m# Control may only reach this point in buggy third-party subclasses.\u001b[39;00m\n\u001b[1;32m    951\u001b[0m \u001b[38;5;28;01massert\u001b[39;00m \u001b[38;5;28mself\u001b[39m\u001b[38;5;241m.\u001b[39mstate \u001b[38;5;129;01mis\u001b[39;00m State\u001b[38;5;241m.\u001b[39mCONNECTING\n",
      "\u001b[0;31mConnectionClosedError\u001b[0m: sent 1011 (internal error) keepalive ping timeout; no close frame received"
     ]
    }
   ],
   "source": [
    "# import BinanceMarketStreamCall\n",
    "\n",
    "websocket_url = 'wss://stream.binance.com:9443/ws/shibusdt@kline_1s'\n",
    "asyncio.get_event_loop().run_until_complete(receive_data(websocket_url))"
   ]
  },
  {
   "cell_type": "code",
   "execution_count": null,
   "id": "1d9790fd",
   "metadata": {},
   "outputs": [],
   "source": []
  }
 ],
 "metadata": {
  "kernelspec": {
   "display_name": "Python 3 (ipykernel)",
   "language": "python",
   "name": "python3"
  },
  "language_info": {
   "codemirror_mode": {
    "name": "ipython",
    "version": 3
   },
   "file_extension": ".py",
   "mimetype": "text/x-python",
   "name": "python",
   "nbconvert_exporter": "python",
   "pygments_lexer": "ipython3",
   "version": "3.11.8"
  }
 },
 "nbformat": 4,
 "nbformat_minor": 5
}

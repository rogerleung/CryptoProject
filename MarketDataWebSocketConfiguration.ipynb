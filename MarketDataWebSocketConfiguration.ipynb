{
 "cells": [
  {
   "cell_type": "code",
   "execution_count": 1,
   "id": "c50d4561",
   "metadata": {},
   "outputs": [],
   "source": [
    "import asyncio\n",
    "from websockets.sync.client import connect\n",
    "import websocket"
   ]
  },
  {
   "cell_type": "code",
   "execution_count": 2,
   "id": "8f2efb23",
   "metadata": {},
   "outputs": [
    {
     "name": "stdout",
     "output_type": "stream",
     "text": [
      "Received: {\"result\":null,\"id\":1}\n",
      "Received: {\"result\":[\"btcusdt@marketPrice@1s\"],\"id\":3}\n"
     ]
    }
   ],
   "source": [
    "with connect(\"wss://stream.binance.com:9443/ws\") as websocket:\n",
    "#     json_subscribe = '{\"method\": \"SUBSCRIBE\", \"params\": [\"shibusdt@kline_1m\",\"maticusdt@kline_1m\",\"solusdt@kline_1m\",\"btcusdt@kline_1m\",\"bnbusdt@kline_1m\",\"dogeusdt@kline_1m\"],  \"id\": 1}' #other pairs\n",
    "    \n",
    "    #Subscription\n",
    "    json_subscribe = '{\"method\": \"SUBSCRIBE\",\"params\":[\"btcusdt@marketPrice@1s\"],\"id\": 1}'\n",
    "    websocket.send(json_subscribe)\n",
    "    message = websocket.recv()\n",
    "    print(f\"Received: {message}\")\n",
    "    \n",
    "    \n",
    "    #check subscription\n",
    "    check_suscriptions = '{\"method\": \"LIST_SUBSCRIPTIONS\", \"id\": 3}'\n",
    "    websocket.send(check_suscriptions)\n",
    "    message = websocket.recv()\n",
    "    print(f\"Received: {message}\")"
   ]
  },
  {
   "cell_type": "code",
   "execution_count": 3,
   "id": "0828bfdc",
   "metadata": {},
   "outputs": [],
   "source": [
    "import websockets\n",
    "\n",
    "async def receive_data(uri):\n",
    "    async with websockets.connect(uri) as websocket:\n",
    "        while True:\n",
    "            # Receive data from the WebSocket\n",
    "            data = await websocket.recv()\n",
    "            print(f\"Received data: {data}\")"
   ]
  },
  {
   "cell_type": "code",
   "execution_count": null,
   "id": "9bbf3ec9",
   "metadata": {},
   "outputs": [],
   "source": [
    "import nest_asyncio\n",
    "nest_asyncio.apply()\n",
    "\n",
    "websocket_url = 'wss://stream.binance.com:9443/ws/btcusdt@marketPrice@1s'\n",
    "asyncio.get_event_loop().run_until_complete(receive_data(websocket_url))"
   ]
  }
 ],
 "metadata": {
  "kernelspec": {
   "display_name": "Python 3 (ipykernel)",
   "language": "python",
   "name": "python3"
  },
  "language_info": {
   "codemirror_mode": {
    "name": "ipython",
    "version": 3
   },
   "file_extension": ".py",
   "mimetype": "text/x-python",
   "name": "python",
   "nbconvert_exporter": "python",
   "pygments_lexer": "ipython3",
   "version": "3.10.9"
  }
 },
 "nbformat": 4,
 "nbformat_minor": 5
}

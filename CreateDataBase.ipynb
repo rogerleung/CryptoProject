{
 "cells": [
  {
   "cell_type": "code",
   "execution_count": 1,
   "id": "c7e23e2b",
   "metadata": {},
   "outputs": [],
   "source": [
    "import pandas as pd\n",
    "import sqlite3\n",
    "import csv\n",
    "import os\n",
    "from os.path import isfile, join"
   ]
  },
  {
   "cell_type": "code",
   "execution_count": 25,
   "id": "7ce49544",
   "metadata": {},
   "outputs": [],
   "source": [
    "def create_database():\n",
    "    con = sqlite3.connect(\"DataBase/BinanceExchangeData3.db\")\n",
    "    cur = con.cursor()\n",
    "    # Create Spot Table\n",
    "    cur.execute(\"CREATE TABLE IF NOT EXISTS Spot_1m(open_time, open, high, low, close, volume, close_time, quote_volume, no_of_trade, taker_buy_volume, taker_buy_quote_volume,ignore)\")\n",
    "    con.commit()\n",
    "    con.close()"
   ]
  },
  {
   "cell_type": "code",
   "execution_count": 4,
   "id": "22b97ba8",
   "metadata": {},
   "outputs": [],
   "source": [
    "data_directory = 'Data/spot/BTCUSDT/1m/'\n",
    "files_to_inject = os.listdir(data_directory)"
   ]
  },
  {
   "cell_type": "code",
   "execution_count": 6,
   "id": "3bc06580",
   "metadata": {},
   "outputs": [],
   "source": [
    "## refresh files\n",
    "files_to_inject = os.listdir(data_directory)"
   ]
  },
  {
   "cell_type": "code",
   "execution_count": 7,
   "id": "84459f6b",
   "metadata": {},
   "outputs": [],
   "source": [
    "for i in files_to_inject:\n",
    "\n",
    "    with open(data_directory + i,\n",
    "              'r') as fin:  # `with` statement available in 2.5+\n",
    "        # csv.DictReader uses first line in file for column headings by default\n",
    "        dr = csv.DictReader(fin)  # comma is default delimiter\n",
    "        to_db = [(i['open_time'], i['open'], i['high'], i['low'], i['close'], i['volume'],\n",
    "                  i['close_time'], i['quote_volume'], i['count'], i['taker_buy_volume'], i['taker_buy_quote_volume'], i['ignore'])\n",
    "                 for i in dr]\n",
    "\n",
    "    cur.executemany(\n",
    "        \"INSERT INTO Spot_1m (open_time, open, high, low, close, volume, close_time, quote_volume, count, taker_buy_volume, taker_buy_quote_volume,ignore) VALUES (?, ?, ?, ?, ?, ?, ?, ?, ?, ?, ?, ?);\",\n",
    "        to_db)\n",
    "    con.commit()"
   ]
  },
  {
   "cell_type": "code",
   "execution_count": 20,
   "id": "316e0733",
   "metadata": {},
   "outputs": [],
   "source": [
    "res = cur.execute(\"SELECT * FROM Spot_1m limit 10\")"
   ]
  },
  {
   "cell_type": "code",
   "execution_count": 21,
   "id": "948ef979",
   "metadata": {},
   "outputs": [],
   "source": [
    "df = pd.read_sql_query(\"SELECT * FROM Spot_1m\", con)"
   ]
  },
  {
   "cell_type": "code",
   "execution_count": 22,
   "id": "67fc52f8",
   "metadata": {},
   "outputs": [
    {
     "data": {
      "text/html": [
       "<div>\n",
       "<style scoped>\n",
       "    .dataframe tbody tr th:only-of-type {\n",
       "        vertical-align: middle;\n",
       "    }\n",
       "\n",
       "    .dataframe tbody tr th {\n",
       "        vertical-align: top;\n",
       "    }\n",
       "\n",
       "    .dataframe thead th {\n",
       "        text-align: right;\n",
       "    }\n",
       "</style>\n",
       "<table border=\"1\" class=\"dataframe\">\n",
       "  <thead>\n",
       "    <tr style=\"text-align: right;\">\n",
       "      <th></th>\n",
       "      <th>open_time</th>\n",
       "      <th>open</th>\n",
       "      <th>high</th>\n",
       "      <th>low</th>\n",
       "      <th>close</th>\n",
       "      <th>volume</th>\n",
       "      <th>close_time</th>\n",
       "      <th>quote_volume</th>\n",
       "      <th>count</th>\n",
       "      <th>taker_buy_volume</th>\n",
       "      <th>taker_buy_quote_volume</th>\n",
       "      <th>ignore</th>\n",
       "    </tr>\n",
       "  </thead>\n",
       "  <tbody>\n",
       "    <tr>\n",
       "      <th>0</th>\n",
       "      <td>1581206400000</td>\n",
       "      <td>9895.04</td>\n",
       "      <td>9904.32</td>\n",
       "      <td>9893.12</td>\n",
       "      <td>9898.17</td>\n",
       "      <td>19.224579</td>\n",
       "      <td>1581206459999</td>\n",
       "      <td>190288.70846291</td>\n",
       "      <td>437</td>\n",
       "      <td>9.128216</td>\n",
       "      <td>90367.86407137</td>\n",
       "      <td>0</td>\n",
       "    </tr>\n",
       "    <tr>\n",
       "      <th>1</th>\n",
       "      <td>1581206460000</td>\n",
       "      <td>9898.35</td>\n",
       "      <td>9901.98</td>\n",
       "      <td>9896.38</td>\n",
       "      <td>9900.24</td>\n",
       "      <td>13.566573</td>\n",
       "      <td>1581206519999</td>\n",
       "      <td>134301.18630029</td>\n",
       "      <td>261</td>\n",
       "      <td>5.222038</td>\n",
       "      <td>51690.37980027</td>\n",
       "      <td>0</td>\n",
       "    </tr>\n",
       "    <tr>\n",
       "      <th>2</th>\n",
       "      <td>1581206520000</td>\n",
       "      <td>9900.0</td>\n",
       "      <td>9900.45</td>\n",
       "      <td>9895.36</td>\n",
       "      <td>9897.47</td>\n",
       "      <td>15.790272</td>\n",
       "      <td>1581206579999</td>\n",
       "      <td>156286.961391</td>\n",
       "      <td>269</td>\n",
       "      <td>7.163726</td>\n",
       "      <td>70908.85116667</td>\n",
       "      <td>0</td>\n",
       "    </tr>\n",
       "    <tr>\n",
       "      <th>3</th>\n",
       "      <td>1581206580000</td>\n",
       "      <td>9897.47</td>\n",
       "      <td>9898.41</td>\n",
       "      <td>9887.0</td>\n",
       "      <td>9887.01</td>\n",
       "      <td>37.666676</td>\n",
       "      <td>1581206639999</td>\n",
       "      <td>372535.70900667</td>\n",
       "      <td>405</td>\n",
       "      <td>8.985586</td>\n",
       "      <td>88885.85753486</td>\n",
       "      <td>0</td>\n",
       "    </tr>\n",
       "    <tr>\n",
       "      <th>4</th>\n",
       "      <td>1581206640000</td>\n",
       "      <td>9888.35</td>\n",
       "      <td>9888.35</td>\n",
       "      <td>9880.75</td>\n",
       "      <td>9882.31</td>\n",
       "      <td>22.191547</td>\n",
       "      <td>1581206699999</td>\n",
       "      <td>219326.59732255</td>\n",
       "      <td>362</td>\n",
       "      <td>9.045279</td>\n",
       "      <td>89398.09425992</td>\n",
       "      <td>0</td>\n",
       "    </tr>\n",
       "  </tbody>\n",
       "</table>\n",
       "</div>"
      ],
      "text/plain": [
       "       open_time     open     high      low    close     volume  \\\n",
       "0  1581206400000  9895.04  9904.32  9893.12  9898.17  19.224579   \n",
       "1  1581206460000  9898.35  9901.98  9896.38  9900.24  13.566573   \n",
       "2  1581206520000   9900.0  9900.45  9895.36  9897.47  15.790272   \n",
       "3  1581206580000  9897.47  9898.41   9887.0  9887.01  37.666676   \n",
       "4  1581206640000  9888.35  9888.35  9880.75  9882.31  22.191547   \n",
       "\n",
       "      close_time     quote_volume count taker_buy_volume  \\\n",
       "0  1581206459999  190288.70846291   437         9.128216   \n",
       "1  1581206519999  134301.18630029   261         5.222038   \n",
       "2  1581206579999    156286.961391   269         7.163726   \n",
       "3  1581206639999  372535.70900667   405         8.985586   \n",
       "4  1581206699999  219326.59732255   362         9.045279   \n",
       "\n",
       "  taker_buy_quote_volume ignore  \n",
       "0         90367.86407137      0  \n",
       "1         51690.37980027      0  \n",
       "2         70908.85116667      0  \n",
       "3         88885.85753486      0  \n",
       "4         89398.09425992      0  "
      ]
     },
     "execution_count": 22,
     "metadata": {},
     "output_type": "execute_result"
    }
   ],
   "source": [
    "df.head()"
   ]
  },
  {
   "cell_type": "code",
   "execution_count": 25,
   "id": "0ca86cdd",
   "metadata": {},
   "outputs": [],
   "source": [
    "con.close()"
   ]
  },
  {
   "cell_type": "code",
   "execution_count": null,
   "id": "47f408eb",
   "metadata": {},
   "outputs": [],
   "source": []
  }
 ],
 "metadata": {
  "kernelspec": {
   "display_name": "myproject_kernel",
   "language": "python",
   "name": "myproject_kernel"
  },
  "language_info": {
   "codemirror_mode": {
    "name": "ipython",
    "version": 3
   },
   "file_extension": ".py",
   "mimetype": "text/x-python",
   "name": "python",
   "nbconvert_exporter": "python",
   "pygments_lexer": "ipython3",
   "version": "3.11.7"
  }
 },
 "nbformat": 4,
 "nbformat_minor": 5
}

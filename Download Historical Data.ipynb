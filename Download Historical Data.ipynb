{
 "cells": [
  {
   "cell_type": "code",
   "execution_count": 2,
   "id": "eb640f2a",
   "metadata": {},
   "outputs": [
    {
     "name": "stdout",
     "output_type": "stream",
     "text": [
      "https://api1.binance.com/api/v3/klines/symbol=btcusdt\n"
     ]
    }
   ],
   "source": [
    "import requests\n",
    "import json\n",
    "import requests, zipfile, io\n",
    "import datetime\n",
    "import pandas\n",
    "from datetime import timedelta, date\n",
    "\n",
    "url = 'https://api1.binance.com'\n",
    "api_call = '/api/v3/klines'\n",
    "symbol = '/symbol=btcusdt'\n",
    "\n",
    "print(url + api_call + symbol)\n",
    "\n",
    "# response = requests.get(url + api_call + symbol)\n",
    "# print(response)"
   ]
  },
  {
   "cell_type": "code",
   "execution_count": 3,
   "id": "11400b4f",
   "metadata": {},
   "outputs": [],
   "source": [
    "## add other instruments including options maybe\n",
    "\n",
    "ListOfTickers = ['BTCUSDT', 'ETHUSDT']\n",
    "starting_date = '2018-01-01'\n",
    "end_date = date.today()\n",
    "list_of_dates = pandas.date_range(starting_date,end_date-timedelta(days=1)).strftime('%Y-%m-%d').tolist()\n",
    "\n",
    "timerange = '1m' ## 1s | 1m | 3m | 5m | 30m | 1h | 2h |  "
   ]
  },
  {
   "cell_type": "code",
   "execution_count": null,
   "id": "5630139d",
   "metadata": {},
   "outputs": [],
   "source": [
    "for i in ListOfTickers:\n",
    "    for j in list_of_dates:\n",
    "#         print(j)\n",
    "        file_url = 'https://data.binance.vision/data/spot/daily/klines/' + i + '/' + timerange  + '/' + i + '-' + timerange + '-' + j + '.zip'\n",
    "        try:\n",
    "            r = requests.get(file_url)\n",
    "            z = zipfile.ZipFile(io.BytesIO(r.content))\n",
    "            z.extractall('Data/'+'Spot/' +i + '/' + timerange )\n",
    "        except BadZipFile:\n",
    "            print('error for ' + j + ' nothing was stored for that day')\n",
    "            continue"
   ]
  }
 ],
 "metadata": {
  "kernelspec": {
   "display_name": "Python 3 (ipykernel)",
   "language": "python",
   "name": "python3"
  },
  "language_info": {
   "codemirror_mode": {
    "name": "ipython",
    "version": 3
   },
   "file_extension": ".py",
   "mimetype": "text/x-python",
   "name": "python",
   "nbconvert_exporter": "python",
   "pygments_lexer": "ipython3",
   "version": "3.10.9"
  }
 },
 "nbformat": 4,
 "nbformat_minor": 5
}
